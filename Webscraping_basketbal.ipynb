{
  "cells": [
    {
      "cell_type": "code",
      "execution_count": 2,
      "metadata": {
        "id": "iuYrLGASUKSF"
      },
      "outputs": [],
      "source": [
        "import requests \n",
        "import pandas as pd \n",
        "import numpy as np \n",
        "\n",
        "from bs4 import BeautifulSoup"
      ]
    },
    {
      "cell_type": "code",
      "execution_count": 3,
      "metadata": {
        "id": "80924nXAURLe"
      },
      "outputs": [],
      "source": [
        "url = 'https://www.basketball-reference.com/'"
      ]
    },
    {
      "cell_type": "code",
      "execution_count": 11,
      "metadata": {
        "id": "Fq7tL1hAUY7c"
      },
      "outputs": [],
      "source": [
        "basketball = requests.get(url)"
      ]
    },
    {
      "cell_type": "code",
      "execution_count": 12,
      "metadata": {
        "colab": {
          "base_uri": "https://localhost:8080/"
        },
        "id": "6FWQgGaEUk0z",
        "outputId": "daa2e15b-ca94-454e-a195-3203f4b639dc"
      },
      "outputs": [
        {
          "data": {
            "text/plain": [
              "200"
            ]
          },
          "execution_count": 12,
          "metadata": {},
          "output_type": "execute_result"
        }
      ],
      "source": [
        "basketball.status_code"
      ]
    },
    {
      "cell_type": "code",
      "execution_count": 13,
      "metadata": {
        "colab": {
          "base_uri": "https://localhost:8080/"
        },
        "id": "0L_oYvfVVEKy",
        "outputId": "1ea9bace-401d-4590-927c-0854f53f8125"
      },
      "outputs": [
        {
          "data": {
            "text/plain": [
              "str"
            ]
          },
          "execution_count": 13,
          "metadata": {},
          "output_type": "execute_result"
        }
      ],
      "source": [
        "type(basketball.text)"
      ]
    },
    {
      "cell_type": "code",
      "execution_count": 14,
      "metadata": {
        "id": "kBh6YvJ2Wkrf"
      },
      "outputs": [],
      "source": [
        "soup_basketball = BeautifulSoup(basketball.content,'lxml')"
      ]
    },
    {
      "cell_type": "code",
      "execution_count": 17,
      "metadata": {
        "id": "-hRJsa0-XpjS"
      },
      "outputs": [],
      "source": [
        "h3 = soup_basketball.find('h3')"
      ]
    },
    {
      "cell_type": "code",
      "execution_count": 18,
      "metadata": {
        "colab": {
          "base_uri": "https://localhost:8080/"
        },
        "id": "7CjNWOGNY9dI",
        "outputId": "ec9913b4-2fa3-441a-d8a8-414a864ed604"
      },
      "outputs": [
        {
          "name": "stdout",
          "output_type": "stream",
          "text": [
            "<h3><a href=\"/leagues/NBA_2023_rookies.html\">Recent Debuts</a></h3>\n"
          ]
        }
      ],
      "source": [
        "print(h3)"
      ]
    },
    {
      "cell_type": "code",
      "execution_count": 31,
      "metadata": {
        "id": "ixMeYZ2dac7F"
      },
      "outputs": [],
      "source": [
        "west_table = soup_basketball.find('table', {'id':'confs_standings_W'})\n"
      ]
    },
    {
      "cell_type": "code",
      "execution_count": 32,
      "metadata": {
        "colab": {
          "base_uri": "https://localhost:8080/"
        },
        "id": "xTtH2i5dhOZM",
        "outputId": "7ee98b36-a6f1-453a-82b9-2f70381bf22d"
      },
      "outputs": [
        {
          "name": "stdout",
          "output_type": "stream",
          "text": [
            "<table class=\"suppress_all sortable stats_table\" data-cols-to-freeze=\",1\" id=\"confs_standings_W\">\n",
            "<caption> Table</caption>\n",
            "<colgroup><col/><col/><col/><col/><col/></colgroup>\n",
            "<thead>\n",
            "<tr>\n",
            "<th aria-label=\"West\" class=\" poptip sort_default_asc left\" data-stat=\"team_name\" scope=\"col\">West</th>\n",
            "<th aria-label=\" \" class=\" poptip center\" data-stat=\"franchise_text\" scope=\"col\"> </th>\n",
            "<th aria-label=\" \" class=\" poptip center\" data-stat=\"payroll_text\" scope=\"col\"> </th>\n",
            "<th aria-label=\"Wins\" class=\" poptip right\" data-stat=\"wins\" data-tip=\"Wins\" scope=\"col\">W</th>\n",
            "<th aria-label=\"Losses\" class=\" poptip right\" data-stat=\"losses\" data-tip=\"Losses\" scope=\"col\">L</th>\n",
            "</tr>\n",
            "</thead>\n",
            "<tbody><tr class=\"full_table\"><th class=\"left \" data-stat=\"team_name\" scope=\"row\"><a href=\"/teams/MEM/2023.html\" title=\"Memphis Grizzlies\">MEM</a></th><td class=\"center \" data-stat=\"franchise_text\"><a href=\"/teams/MEM/\" title=\"Memphis Grizzlies Franchise Index\">F</a></td><td class=\"right \" data-stat=\"payroll_text\"><a href=\"/contracts/MEM.html\" title=\"Memphis Grizzlies Team Payroll\">$</a></td><td class=\"right iz\" data-stat=\"wins\">0</td><td class=\"right iz\" data-stat=\"losses\">0</td></tr>\n",
            "<tr class=\"full_table\"><th class=\"left \" data-stat=\"team_name\" scope=\"row\"><a href=\"/teams/DEN/2023.html\" title=\"Denver Nuggets\">DEN</a></th><td class=\"center \" data-stat=\"franchise_text\"><a href=\"/teams/DEN/\" title=\"Denver Nuggets Franchise Index\">F</a></td><td class=\"right \" data-stat=\"payroll_text\"><a href=\"/contracts/DEN.html\" title=\"Denver Nuggets Team Payroll\">$</a></td><td class=\"right iz\" data-stat=\"wins\">0</td><td class=\"right iz\" data-stat=\"losses\">0</td></tr>\n",
            "<tr class=\"full_table\"><th class=\"left \" data-stat=\"team_name\" scope=\"row\"><a href=\"/teams/DAL/2023.html\" title=\"Dallas Mavericks\">DAL</a></th><td class=\"center \" data-stat=\"franchise_text\"><a href=\"/teams/DAL/\" title=\"Dallas Mavericks Franchise Index\">F</a></td><td class=\"right \" data-stat=\"payroll_text\"><a href=\"/contracts/DAL.html\" title=\"Dallas Mavericks Team Payroll\">$</a></td><td class=\"right iz\" data-stat=\"wins\">0</td><td class=\"right iz\" data-stat=\"losses\">0</td></tr>\n",
            "<tr class=\"full_table\"><th class=\"left \" data-stat=\"team_name\" scope=\"row\"><a href=\"/teams/MIN/2023.html\" title=\"Minnesota Timberwolves\">MIN</a></th><td class=\"center \" data-stat=\"franchise_text\"><a href=\"/teams/MIN/\" title=\"Minnesota Timberwolves Franchise Index\">F</a></td><td class=\"right \" data-stat=\"payroll_text\"><a href=\"/contracts/MIN.html\" title=\"Minnesota Timberwolves Team Payroll\">$</a></td><td class=\"right iz\" data-stat=\"wins\">0</td><td class=\"right iz\" data-stat=\"losses\">0</td></tr>\n",
            "<tr class=\"full_table\"><th class=\"left \" data-stat=\"team_name\" scope=\"row\"><a href=\"/teams/NOP/2023.html\" title=\"New Orleans Pelicans\">NOP</a></th><td class=\"center \" data-stat=\"franchise_text\"><a href=\"/teams/NOH/\" title=\"New Orleans Pelicans Franchise Index\">F</a></td><td class=\"right \" data-stat=\"payroll_text\"><a href=\"/contracts/NOP.html\" title=\"New Orleans Pelicans Team Payroll\">$</a></td><td class=\"right iz\" data-stat=\"wins\">0</td><td class=\"right iz\" data-stat=\"losses\">0</td></tr>\n",
            "<tr class=\"full_table\"><th class=\"left \" data-stat=\"team_name\" scope=\"row\"><a href=\"/teams/GSW/2023.html\" title=\"Golden State Warriors\">GSW</a></th><td class=\"center \" data-stat=\"franchise_text\"><a href=\"/teams/GSW/\" title=\"Golden State Warriors Franchise Index\">F</a></td><td class=\"right \" data-stat=\"payroll_text\"><a href=\"/contracts/GSW.html\" title=\"Golden State Warriors Team Payroll\">$</a></td><td class=\"right iz\" data-stat=\"wins\">0</td><td class=\"right iz\" data-stat=\"losses\">0</td></tr>\n",
            "<tr class=\"full_table\"><th class=\"left \" data-stat=\"team_name\" scope=\"row\"><a href=\"/teams/OKC/2023.html\" title=\"Oklahoma City Thunder\">OKC</a></th><td class=\"center \" data-stat=\"franchise_text\"><a href=\"/teams/OKC/\" title=\"Oklahoma City Thunder Franchise Index\">F</a></td><td class=\"right \" data-stat=\"payroll_text\"><a href=\"/contracts/OKC.html\" title=\"Oklahoma City Thunder Team Payroll\">$</a></td><td class=\"right iz\" data-stat=\"wins\">0</td><td class=\"right iz\" data-stat=\"losses\">0</td></tr>\n",
            "<tr class=\"full_table\"><th class=\"left \" data-stat=\"team_name\" scope=\"row\"><a href=\"/teams/LAL/2023.html\" title=\"Los Angeles Lakers\">LAL</a></th><td class=\"center \" data-stat=\"franchise_text\"><a href=\"/teams/LAL/\" title=\"Los Angeles Lakers Franchise Index\">F</a></td><td class=\"right \" data-stat=\"payroll_text\"><a href=\"/contracts/LAL.html\" title=\"Los Angeles Lakers Team Payroll\">$</a></td><td class=\"right iz\" data-stat=\"wins\">0</td><td class=\"right iz\" data-stat=\"losses\">0</td></tr>\n",
            "<tr class=\"full_table\"><th class=\"left \" data-stat=\"team_name\" scope=\"row\"><a href=\"/teams/LAC/2023.html\" title=\"Los Angeles Clippers\">LAC</a></th><td class=\"center \" data-stat=\"franchise_text\"><a href=\"/teams/LAC/\" title=\"Los Angeles Clippers Franchise Index\">F</a></td><td class=\"right \" data-stat=\"payroll_text\"><a href=\"/contracts/LAC.html\" title=\"Los Angeles Clippers Team Payroll\">$</a></td><td class=\"right iz\" data-stat=\"wins\">0</td><td class=\"right iz\" data-stat=\"losses\">0</td></tr>\n",
            "<tr class=\"full_table\"><th class=\"left \" data-stat=\"team_name\" scope=\"row\"><a href=\"/teams/PHO/2023.html\" title=\"Phoenix Suns\">PHO</a></th><td class=\"center \" data-stat=\"franchise_text\"><a href=\"/teams/PHO/\" title=\"Phoenix Suns Franchise Index\">F</a></td><td class=\"right \" data-stat=\"payroll_text\"><a href=\"/contracts/PHO.html\" title=\"Phoenix Suns Team Payroll\">$</a></td><td class=\"right iz\" data-stat=\"wins\">0</td><td class=\"right iz\" data-stat=\"losses\">0</td></tr>\n",
            "<tr class=\"full_table\"><th class=\"left \" data-stat=\"team_name\" scope=\"row\"><a href=\"/teams/POR/2023.html\" title=\"Portland Trail Blazers\">POR</a></th><td class=\"center \" data-stat=\"franchise_text\"><a href=\"/teams/POR/\" title=\"Portland Trail Blazers Franchise Index\">F</a></td><td class=\"right \" data-stat=\"payroll_text\"><a href=\"/contracts/POR.html\" title=\"Portland Trail Blazers Team Payroll\">$</a></td><td class=\"right iz\" data-stat=\"wins\">0</td><td class=\"right iz\" data-stat=\"losses\">0</td></tr>\n",
            "<tr class=\"full_table\"><th class=\"left \" data-stat=\"team_name\" scope=\"row\"><a href=\"/teams/SAC/2023.html\" title=\"Sacramento Kings\">SAC</a></th><td class=\"center \" data-stat=\"franchise_text\"><a href=\"/teams/SAC/\" title=\"Sacramento Kings Franchise Index\">F</a></td><td class=\"right \" data-stat=\"payroll_text\"><a href=\"/contracts/SAC.html\" title=\"Sacramento Kings Team Payroll\">$</a></td><td class=\"right iz\" data-stat=\"wins\">0</td><td class=\"right iz\" data-stat=\"losses\">0</td></tr>\n",
            "<tr class=\"full_table\"><th class=\"left \" data-stat=\"team_name\" scope=\"row\"><a href=\"/teams/SAS/2023.html\" title=\"San Antonio Spurs\">SAS</a></th><td class=\"center \" data-stat=\"franchise_text\"><a href=\"/teams/SAS/\" title=\"San Antonio Spurs Franchise Index\">F</a></td><td class=\"right \" data-stat=\"payroll_text\"><a href=\"/contracts/SAS.html\" title=\"San Antonio Spurs Team Payroll\">$</a></td><td class=\"right iz\" data-stat=\"wins\">0</td><td class=\"right iz\" data-stat=\"losses\">0</td></tr>\n",
            "<tr class=\"full_table\"><th class=\"left \" data-stat=\"team_name\" scope=\"row\"><a href=\"/teams/UTA/2023.html\" title=\"Utah Jazz\">UTA</a></th><td class=\"center \" data-stat=\"franchise_text\"><a href=\"/teams/UTA/\" title=\"Utah Jazz Franchise Index\">F</a></td><td class=\"right \" data-stat=\"payroll_text\"><a href=\"/contracts/UTA.html\" title=\"Utah Jazz Team Payroll\">$</a></td><td class=\"right iz\" data-stat=\"wins\">0</td><td class=\"right iz\" data-stat=\"losses\">0</td></tr>\n",
            "<tr class=\"full_table\"><th class=\"left \" data-stat=\"team_name\" scope=\"row\"><a href=\"/teams/HOU/2023.html\" title=\"Houston Rockets\">HOU</a></th><td class=\"center \" data-stat=\"franchise_text\"><a href=\"/teams/HOU/\" title=\"Houston Rockets Franchise Index\">F</a></td><td class=\"right \" data-stat=\"payroll_text\"><a href=\"/contracts/HOU.html\" title=\"Houston Rockets Team Payroll\">$</a></td><td class=\"right iz\" data-stat=\"wins\">0</td><td class=\"right iz\" data-stat=\"losses\">0</td></tr>\n",
            "</tbody></table>\n"
          ]
        }
      ],
      "source": [
        "print(west_table)"
      ]
    },
    {
      "cell_type": "code",
      "execution_count": 34,
      "metadata": {
        "id": "sO_cM6qh_UEh"
      },
      "outputs": [],
      "source": [
        "name_east_table = soup_basketball.find('tbody').find_all('tr')"
      ]
    },
    {
      "cell_type": "code",
      "execution_count": 35,
      "metadata": {
        "colab": {
          "base_uri": "https://localhost:8080/"
        },
        "id": "kL0Ir5d2kooR",
        "outputId": "ba00d80b-c5ea-4ee1-ab5e-795adffce615"
      },
      "outputs": [
        {
          "name": "stdout",
          "output_type": "stream",
          "text": [
            "[<tr class=\"full_table\"><th class=\"left \" data-stat=\"team_name\" scope=\"row\"><a href=\"/teams/MIA/2023.html\" title=\"Miami Heat\">MIA</a></th><td class=\"center \" data-stat=\"franchise_text\"><a href=\"/teams/MIA/\" title=\"Miami Heat Franchise Index\">F</a></td><td class=\"right \" data-stat=\"payroll_text\"><a href=\"/contracts/MIA.html\" title=\"Miami Heat Team Payroll\">$</a></td><td class=\"right iz\" data-stat=\"wins\">0</td><td class=\"right iz\" data-stat=\"losses\">0</td></tr>, <tr class=\"full_table\"><th class=\"left \" data-stat=\"team_name\" scope=\"row\"><a href=\"/teams/WAS/2023.html\" title=\"Washington Wizards\">WAS</a></th><td class=\"center \" data-stat=\"franchise_text\"><a href=\"/teams/WAS/\" title=\"Washington Wizards Franchise Index\">F</a></td><td class=\"right \" data-stat=\"payroll_text\"><a href=\"/contracts/WAS.html\" title=\"Washington Wizards Team Payroll\">$</a></td><td class=\"right iz\" data-stat=\"wins\">0</td><td class=\"right iz\" data-stat=\"losses\">0</td></tr>, <tr class=\"full_table\"><th class=\"left \" data-stat=\"team_name\" scope=\"row\"><a href=\"/teams/TOR/2023.html\" title=\"Toronto Raptors\">TOR</a></th><td class=\"center \" data-stat=\"franchise_text\"><a href=\"/teams/TOR/\" title=\"Toronto Raptors Franchise Index\">F</a></td><td class=\"right \" data-stat=\"payroll_text\"><a href=\"/contracts/TOR.html\" title=\"Toronto Raptors Team Payroll\">$</a></td><td class=\"right iz\" data-stat=\"wins\">0</td><td class=\"right iz\" data-stat=\"losses\">0</td></tr>, <tr class=\"full_table\"><th class=\"left \" data-stat=\"team_name\" scope=\"row\"><a href=\"/teams/PHI/2023.html\" title=\"Philadelphia 76ers\">PHI</a></th><td class=\"center \" data-stat=\"franchise_text\"><a href=\"/teams/PHI/\" title=\"Philadelphia 76ers Franchise Index\">F</a></td><td class=\"right \" data-stat=\"payroll_text\"><a href=\"/contracts/PHI.html\" title=\"Philadelphia 76ers Team Payroll\">$</a></td><td class=\"right iz\" data-stat=\"wins\">0</td><td class=\"right iz\" data-stat=\"losses\">0</td></tr>, <tr class=\"full_table\"><th class=\"left \" data-stat=\"team_name\" scope=\"row\"><a href=\"/teams/ORL/2023.html\" title=\"Orlando Magic\">ORL</a></th><td class=\"center \" data-stat=\"franchise_text\"><a href=\"/teams/ORL/\" title=\"Orlando Magic Franchise Index\">F</a></td><td class=\"right \" data-stat=\"payroll_text\"><a href=\"/contracts/ORL.html\" title=\"Orlando Magic Team Payroll\">$</a></td><td class=\"right iz\" data-stat=\"wins\">0</td><td class=\"right iz\" data-stat=\"losses\">0</td></tr>, <tr class=\"full_table\"><th class=\"left \" data-stat=\"team_name\" scope=\"row\"><a href=\"/teams/NYK/2023.html\" title=\"New York Knicks\">NYK</a></th><td class=\"center \" data-stat=\"franchise_text\"><a href=\"/teams/NYK/\" title=\"New York Knicks Franchise Index\">F</a></td><td class=\"right \" data-stat=\"payroll_text\"><a href=\"/contracts/NYK.html\" title=\"New York Knicks Team Payroll\">$</a></td><td class=\"right iz\" data-stat=\"wins\">0</td><td class=\"right iz\" data-stat=\"losses\">0</td></tr>, <tr class=\"full_table\"><th class=\"left \" data-stat=\"team_name\" scope=\"row\"><a href=\"/teams/MIL/2023.html\" title=\"Milwaukee Bucks\">MIL</a></th><td class=\"center \" data-stat=\"franchise_text\"><a href=\"/teams/MIL/\" title=\"Milwaukee Bucks Franchise Index\">F</a></td><td class=\"right \" data-stat=\"payroll_text\"><a href=\"/contracts/MIL.html\" title=\"Milwaukee Bucks Team Payroll\">$</a></td><td class=\"right iz\" data-stat=\"wins\">0</td><td class=\"right iz\" data-stat=\"losses\">0</td></tr>, <tr class=\"full_table\"><th class=\"left \" data-stat=\"team_name\" scope=\"row\"><a href=\"/teams/ATL/2023.html\" title=\"Atlanta Hawks\">ATL</a></th><td class=\"center \" data-stat=\"franchise_text\"><a href=\"/teams/ATL/\" title=\"Atlanta Hawks Franchise Index\">F</a></td><td class=\"right \" data-stat=\"payroll_text\"><a href=\"/contracts/ATL.html\" title=\"Atlanta Hawks Team Payroll\">$</a></td><td class=\"right iz\" data-stat=\"wins\">0</td><td class=\"right iz\" data-stat=\"losses\">0</td></tr>, <tr class=\"full_table\"><th class=\"left \" data-stat=\"team_name\" scope=\"row\"><a href=\"/teams/IND/2023.html\" title=\"Indiana Pacers\">IND</a></th><td class=\"center \" data-stat=\"franchise_text\"><a href=\"/teams/IND/\" title=\"Indiana Pacers Franchise Index\">F</a></td><td class=\"right \" data-stat=\"payroll_text\"><a href=\"/contracts/IND.html\" title=\"Indiana Pacers Team Payroll\">$</a></td><td class=\"right iz\" data-stat=\"wins\">0</td><td class=\"right iz\" data-stat=\"losses\">0</td></tr>, <tr class=\"full_table\"><th class=\"left \" data-stat=\"team_name\" scope=\"row\"><a href=\"/teams/CLE/2023.html\" title=\"Cleveland Cavaliers\">CLE</a></th><td class=\"center \" data-stat=\"franchise_text\"><a href=\"/teams/CLE/\" title=\"Cleveland Cavaliers Franchise Index\">F</a></td><td class=\"right \" data-stat=\"payroll_text\"><a href=\"/contracts/CLE.html\" title=\"Cleveland Cavaliers Team Payroll\">$</a></td><td class=\"right iz\" data-stat=\"wins\">0</td><td class=\"right iz\" data-stat=\"losses\">0</td></tr>, <tr class=\"full_table\"><th class=\"left \" data-stat=\"team_name\" scope=\"row\"><a href=\"/teams/BOS/2023.html\" title=\"Boston Celtics\">BOS</a></th><td class=\"center \" data-stat=\"franchise_text\"><a href=\"/teams/BOS/\" title=\"Boston Celtics Franchise Index\">F</a></td><td class=\"right \" data-stat=\"payroll_text\"><a href=\"/contracts/BOS.html\" title=\"Boston Celtics Team Payroll\">$</a></td><td class=\"right iz\" data-stat=\"wins\">0</td><td class=\"right iz\" data-stat=\"losses\">0</td></tr>, <tr class=\"full_table\"><th class=\"left \" data-stat=\"team_name\" scope=\"row\"><a href=\"/teams/BRK/2023.html\" title=\"Brooklyn Nets\">BRK</a></th><td class=\"center \" data-stat=\"franchise_text\"><a href=\"/teams/NJN/\" title=\"Brooklyn Nets Franchise Index\">F</a></td><td class=\"right \" data-stat=\"payroll_text\"><a href=\"/contracts/BRK.html\" title=\"Brooklyn Nets Team Payroll\">$</a></td><td class=\"right iz\" data-stat=\"wins\">0</td><td class=\"right iz\" data-stat=\"losses\">0</td></tr>, <tr class=\"full_table\"><th class=\"left \" data-stat=\"team_name\" scope=\"row\"><a href=\"/teams/CHI/2023.html\" title=\"Chicago Bulls\">CHI</a></th><td class=\"center \" data-stat=\"franchise_text\"><a href=\"/teams/CHI/\" title=\"Chicago Bulls Franchise Index\">F</a></td><td class=\"right \" data-stat=\"payroll_text\"><a href=\"/contracts/CHI.html\" title=\"Chicago Bulls Team Payroll\">$</a></td><td class=\"right iz\" data-stat=\"wins\">0</td><td class=\"right iz\" data-stat=\"losses\">0</td></tr>, <tr class=\"full_table\"><th class=\"left \" data-stat=\"team_name\" scope=\"row\"><a href=\"/teams/CHO/2023.html\" title=\"Charlotte Hornets\">CHO</a></th><td class=\"center \" data-stat=\"franchise_text\"><a href=\"/teams/CHA/\" title=\"Charlotte Hornets Franchise Index\">F</a></td><td class=\"right \" data-stat=\"payroll_text\"><a href=\"/contracts/CHO.html\" title=\"Charlotte Hornets Team Payroll\">$</a></td><td class=\"right iz\" data-stat=\"wins\">0</td><td class=\"right iz\" data-stat=\"losses\">0</td></tr>, <tr class=\"full_table\"><th class=\"left \" data-stat=\"team_name\" scope=\"row\"><a href=\"/teams/DET/2023.html\" title=\"Detroit Pistons\">DET</a></th><td class=\"center \" data-stat=\"franchise_text\"><a href=\"/teams/DET/\" title=\"Detroit Pistons Franchise Index\">F</a></td><td class=\"right \" data-stat=\"payroll_text\"><a href=\"/contracts/DET.html\" title=\"Detroit Pistons Team Payroll\">$</a></td><td class=\"right iz\" data-stat=\"wins\">0</td><td class=\"right iz\" data-stat=\"losses\">0</td></tr>]\n"
          ]
        }
      ],
      "source": [
        "print(name_east_table)"
      ]
    },
    {
      "cell_type": "code",
      "execution_count": 44,
      "metadata": {
        "id": "mN-TsNASAAOm"
      },
      "outputs": [],
      "source": [
        "# to extract out title of EAST team TABLE only\n",
        "\n",
        "e_team = []\n",
        "\n",
        "east_table = soup_basketball.find('table', {'id':'confs_standings_E'})\n",
        "\n",
        "for row in east_table.find('tbody').find_all('tr'):\n",
        "  inner_body = {}\n",
        "  inner_body['east_teamname'] = row.find('a').attrs['title']\n",
        "\n",
        "  e_team.append(inner_body)\n"
      ]
    },
    {
      "cell_type": "code",
      "execution_count": 45,
      "metadata": {
        "colab": {
          "base_uri": "https://localhost:8080/",
          "height": 520
        },
        "id": "lElYQx05DmgY",
        "outputId": "25d85266-168b-459f-d83e-5460ef76061b"
      },
      "outputs": [
        {
          "data": {
            "text/html": [
              "\n",
              "  <div id=\"df-cdecf3e7-a3ea-4254-b11c-2ec5f5d9d606\">\n",
              "    <div class=\"colab-df-container\">\n",
              "      <div>\n",
              "<style scoped>\n",
              "    .dataframe tbody tr th:only-of-type {\n",
              "        vertical-align: middle;\n",
              "    }\n",
              "\n",
              "    .dataframe tbody tr th {\n",
              "        vertical-align: top;\n",
              "    }\n",
              "\n",
              "    .dataframe thead th {\n",
              "        text-align: right;\n",
              "    }\n",
              "</style>\n",
              "<table border=\"1\" class=\"dataframe\">\n",
              "  <thead>\n",
              "    <tr style=\"text-align: right;\">\n",
              "      <th></th>\n",
              "      <th>east_teamname</th>\n",
              "    </tr>\n",
              "  </thead>\n",
              "  <tbody>\n",
              "    <tr>\n",
              "      <th>0</th>\n",
              "      <td>Miami Heat</td>\n",
              "    </tr>\n",
              "    <tr>\n",
              "      <th>1</th>\n",
              "      <td>Washington Wizards</td>\n",
              "    </tr>\n",
              "    <tr>\n",
              "      <th>2</th>\n",
              "      <td>Toronto Raptors</td>\n",
              "    </tr>\n",
              "    <tr>\n",
              "      <th>3</th>\n",
              "      <td>Philadelphia 76ers</td>\n",
              "    </tr>\n",
              "    <tr>\n",
              "      <th>4</th>\n",
              "      <td>Orlando Magic</td>\n",
              "    </tr>\n",
              "    <tr>\n",
              "      <th>5</th>\n",
              "      <td>New York Knicks</td>\n",
              "    </tr>\n",
              "    <tr>\n",
              "      <th>6</th>\n",
              "      <td>Milwaukee Bucks</td>\n",
              "    </tr>\n",
              "    <tr>\n",
              "      <th>7</th>\n",
              "      <td>Atlanta Hawks</td>\n",
              "    </tr>\n",
              "    <tr>\n",
              "      <th>8</th>\n",
              "      <td>Indiana Pacers</td>\n",
              "    </tr>\n",
              "    <tr>\n",
              "      <th>9</th>\n",
              "      <td>Cleveland Cavaliers</td>\n",
              "    </tr>\n",
              "    <tr>\n",
              "      <th>10</th>\n",
              "      <td>Boston Celtics</td>\n",
              "    </tr>\n",
              "    <tr>\n",
              "      <th>11</th>\n",
              "      <td>Brooklyn Nets</td>\n",
              "    </tr>\n",
              "    <tr>\n",
              "      <th>12</th>\n",
              "      <td>Chicago Bulls</td>\n",
              "    </tr>\n",
              "    <tr>\n",
              "      <th>13</th>\n",
              "      <td>Charlotte Hornets</td>\n",
              "    </tr>\n",
              "    <tr>\n",
              "      <th>14</th>\n",
              "      <td>Detroit Pistons</td>\n",
              "    </tr>\n",
              "  </tbody>\n",
              "</table>\n",
              "</div>\n",
              "      <button class=\"colab-df-convert\" onclick=\"convertToInteractive('df-cdecf3e7-a3ea-4254-b11c-2ec5f5d9d606')\"\n",
              "              title=\"Convert this dataframe to an interactive table.\"\n",
              "              style=\"display:none;\">\n",
              "        \n",
              "  <svg xmlns=\"http://www.w3.org/2000/svg\" height=\"24px\"viewBox=\"0 0 24 24\"\n",
              "       width=\"24px\">\n",
              "    <path d=\"M0 0h24v24H0V0z\" fill=\"none\"/>\n",
              "    <path d=\"M18.56 5.44l.94 2.06.94-2.06 2.06-.94-2.06-.94-.94-2.06-.94 2.06-2.06.94zm-11 1L8.5 8.5l.94-2.06 2.06-.94-2.06-.94L8.5 2.5l-.94 2.06-2.06.94zm10 10l.94 2.06.94-2.06 2.06-.94-2.06-.94-.94-2.06-.94 2.06-2.06.94z\"/><path d=\"M17.41 7.96l-1.37-1.37c-.4-.4-.92-.59-1.43-.59-.52 0-1.04.2-1.43.59L10.3 9.45l-7.72 7.72c-.78.78-.78 2.05 0 2.83L4 21.41c.39.39.9.59 1.41.59.51 0 1.02-.2 1.41-.59l7.78-7.78 2.81-2.81c.8-.78.8-2.07 0-2.86zM5.41 20L4 18.59l7.72-7.72 1.47 1.35L5.41 20z\"/>\n",
              "  </svg>\n",
              "      </button>\n",
              "      \n",
              "  <style>\n",
              "    .colab-df-container {\n",
              "      display:flex;\n",
              "      flex-wrap:wrap;\n",
              "      gap: 12px;\n",
              "    }\n",
              "\n",
              "    .colab-df-convert {\n",
              "      background-color: #E8F0FE;\n",
              "      border: none;\n",
              "      border-radius: 50%;\n",
              "      cursor: pointer;\n",
              "      display: none;\n",
              "      fill: #1967D2;\n",
              "      height: 32px;\n",
              "      padding: 0 0 0 0;\n",
              "      width: 32px;\n",
              "    }\n",
              "\n",
              "    .colab-df-convert:hover {\n",
              "      background-color: #E2EBFA;\n",
              "      box-shadow: 0px 1px 2px rgba(60, 64, 67, 0.3), 0px 1px 3px 1px rgba(60, 64, 67, 0.15);\n",
              "      fill: #174EA6;\n",
              "    }\n",
              "\n",
              "    [theme=dark] .colab-df-convert {\n",
              "      background-color: #3B4455;\n",
              "      fill: #D2E3FC;\n",
              "    }\n",
              "\n",
              "    [theme=dark] .colab-df-convert:hover {\n",
              "      background-color: #434B5C;\n",
              "      box-shadow: 0px 1px 3px 1px rgba(0, 0, 0, 0.15);\n",
              "      filter: drop-shadow(0px 1px 2px rgba(0, 0, 0, 0.3));\n",
              "      fill: #FFFFFF;\n",
              "    }\n",
              "  </style>\n",
              "\n",
              "      <script>\n",
              "        const buttonEl =\n",
              "          document.querySelector('#df-cdecf3e7-a3ea-4254-b11c-2ec5f5d9d606 button.colab-df-convert');\n",
              "        buttonEl.style.display =\n",
              "          google.colab.kernel.accessAllowed ? 'block' : 'none';\n",
              "\n",
              "        async function convertToInteractive(key) {\n",
              "          const element = document.querySelector('#df-cdecf3e7-a3ea-4254-b11c-2ec5f5d9d606');\n",
              "          const dataTable =\n",
              "            await google.colab.kernel.invokeFunction('convertToInteractive',\n",
              "                                                     [key], {});\n",
              "          if (!dataTable) return;\n",
              "\n",
              "          const docLinkHtml = 'Like what you see? Visit the ' +\n",
              "            '<a target=\"_blank\" href=https://colab.research.google.com/notebooks/data_table.ipynb>data table notebook</a>'\n",
              "            + ' to learn more about interactive tables.';\n",
              "          element.innerHTML = '';\n",
              "          dataTable['output_type'] = 'display_data';\n",
              "          await google.colab.output.renderOutput(dataTable, element);\n",
              "          const docLink = document.createElement('div');\n",
              "          docLink.innerHTML = docLinkHtml;\n",
              "          element.appendChild(docLink);\n",
              "        }\n",
              "      </script>\n",
              "    </div>\n",
              "  </div>\n",
              "  "
            ],
            "text/plain": [
              "          east_teamname\n",
              "0            Miami Heat\n",
              "1    Washington Wizards\n",
              "2       Toronto Raptors\n",
              "3    Philadelphia 76ers\n",
              "4         Orlando Magic\n",
              "5       New York Knicks\n",
              "6       Milwaukee Bucks\n",
              "7         Atlanta Hawks\n",
              "8        Indiana Pacers\n",
              "9   Cleveland Cavaliers\n",
              "10       Boston Celtics\n",
              "11        Brooklyn Nets\n",
              "12        Chicago Bulls\n",
              "13    Charlotte Hornets\n",
              "14      Detroit Pistons"
            ]
          },
          "execution_count": 45,
          "metadata": {},
          "output_type": "execute_result"
        }
      ],
      "source": [
        "pd.DataFrame(e_team)"
      ]
    },
    {
      "cell_type": "code",
      "execution_count": 48,
      "metadata": {
        "id": "G6ppC0GoGV77"
      },
      "outputs": [],
      "source": [
        "# to extract out title of WEST team TABLE only\n",
        "\n",
        "w_team = []\n",
        "\n",
        "west_table = soup_basketball.find('table', {'id':'confs_standings_W'})\n",
        "\n",
        "for row in west_table.find('tbody').find_all('tr'):\n",
        "   inner_body = {}\n",
        "   inner_body['west_teamname'] = row.find('a').attrs['title']\n",
        "\n",
        "   w_team.append(inner_body)"
      ]
    },
    {
      "cell_type": "code",
      "execution_count": 49,
      "metadata": {
        "colab": {
          "base_uri": "https://localhost:8080/",
          "height": 520
        },
        "id": "lpjaKpiCPM0J",
        "outputId": "ba100972-5cd6-4406-b3e4-fb7bbc4c7d4f"
      },
      "outputs": [
        {
          "data": {
            "text/html": [
              "\n",
              "  <div id=\"df-c437d187-ed9e-4442-8d7d-0b7d2ae5e81c\">\n",
              "    <div class=\"colab-df-container\">\n",
              "      <div>\n",
              "<style scoped>\n",
              "    .dataframe tbody tr th:only-of-type {\n",
              "        vertical-align: middle;\n",
              "    }\n",
              "\n",
              "    .dataframe tbody tr th {\n",
              "        vertical-align: top;\n",
              "    }\n",
              "\n",
              "    .dataframe thead th {\n",
              "        text-align: right;\n",
              "    }\n",
              "</style>\n",
              "<table border=\"1\" class=\"dataframe\">\n",
              "  <thead>\n",
              "    <tr style=\"text-align: right;\">\n",
              "      <th></th>\n",
              "      <th>west_teamname</th>\n",
              "    </tr>\n",
              "  </thead>\n",
              "  <tbody>\n",
              "    <tr>\n",
              "      <th>0</th>\n",
              "      <td>Memphis Grizzlies</td>\n",
              "    </tr>\n",
              "    <tr>\n",
              "      <th>1</th>\n",
              "      <td>Denver Nuggets</td>\n",
              "    </tr>\n",
              "    <tr>\n",
              "      <th>2</th>\n",
              "      <td>Dallas Mavericks</td>\n",
              "    </tr>\n",
              "    <tr>\n",
              "      <th>3</th>\n",
              "      <td>Minnesota Timberwolves</td>\n",
              "    </tr>\n",
              "    <tr>\n",
              "      <th>4</th>\n",
              "      <td>New Orleans Pelicans</td>\n",
              "    </tr>\n",
              "    <tr>\n",
              "      <th>5</th>\n",
              "      <td>Golden State Warriors</td>\n",
              "    </tr>\n",
              "    <tr>\n",
              "      <th>6</th>\n",
              "      <td>Oklahoma City Thunder</td>\n",
              "    </tr>\n",
              "    <tr>\n",
              "      <th>7</th>\n",
              "      <td>Los Angeles Lakers</td>\n",
              "    </tr>\n",
              "    <tr>\n",
              "      <th>8</th>\n",
              "      <td>Los Angeles Clippers</td>\n",
              "    </tr>\n",
              "    <tr>\n",
              "      <th>9</th>\n",
              "      <td>Phoenix Suns</td>\n",
              "    </tr>\n",
              "    <tr>\n",
              "      <th>10</th>\n",
              "      <td>Portland Trail Blazers</td>\n",
              "    </tr>\n",
              "    <tr>\n",
              "      <th>11</th>\n",
              "      <td>Sacramento Kings</td>\n",
              "    </tr>\n",
              "    <tr>\n",
              "      <th>12</th>\n",
              "      <td>San Antonio Spurs</td>\n",
              "    </tr>\n",
              "    <tr>\n",
              "      <th>13</th>\n",
              "      <td>Utah Jazz</td>\n",
              "    </tr>\n",
              "    <tr>\n",
              "      <th>14</th>\n",
              "      <td>Houston Rockets</td>\n",
              "    </tr>\n",
              "  </tbody>\n",
              "</table>\n",
              "</div>\n",
              "      <button class=\"colab-df-convert\" onclick=\"convertToInteractive('df-c437d187-ed9e-4442-8d7d-0b7d2ae5e81c')\"\n",
              "              title=\"Convert this dataframe to an interactive table.\"\n",
              "              style=\"display:none;\">\n",
              "        \n",
              "  <svg xmlns=\"http://www.w3.org/2000/svg\" height=\"24px\"viewBox=\"0 0 24 24\"\n",
              "       width=\"24px\">\n",
              "    <path d=\"M0 0h24v24H0V0z\" fill=\"none\"/>\n",
              "    <path d=\"M18.56 5.44l.94 2.06.94-2.06 2.06-.94-2.06-.94-.94-2.06-.94 2.06-2.06.94zm-11 1L8.5 8.5l.94-2.06 2.06-.94-2.06-.94L8.5 2.5l-.94 2.06-2.06.94zm10 10l.94 2.06.94-2.06 2.06-.94-2.06-.94-.94-2.06-.94 2.06-2.06.94z\"/><path d=\"M17.41 7.96l-1.37-1.37c-.4-.4-.92-.59-1.43-.59-.52 0-1.04.2-1.43.59L10.3 9.45l-7.72 7.72c-.78.78-.78 2.05 0 2.83L4 21.41c.39.39.9.59 1.41.59.51 0 1.02-.2 1.41-.59l7.78-7.78 2.81-2.81c.8-.78.8-2.07 0-2.86zM5.41 20L4 18.59l7.72-7.72 1.47 1.35L5.41 20z\"/>\n",
              "  </svg>\n",
              "      </button>\n",
              "      \n",
              "  <style>\n",
              "    .colab-df-container {\n",
              "      display:flex;\n",
              "      flex-wrap:wrap;\n",
              "      gap: 12px;\n",
              "    }\n",
              "\n",
              "    .colab-df-convert {\n",
              "      background-color: #E8F0FE;\n",
              "      border: none;\n",
              "      border-radius: 50%;\n",
              "      cursor: pointer;\n",
              "      display: none;\n",
              "      fill: #1967D2;\n",
              "      height: 32px;\n",
              "      padding: 0 0 0 0;\n",
              "      width: 32px;\n",
              "    }\n",
              "\n",
              "    .colab-df-convert:hover {\n",
              "      background-color: #E2EBFA;\n",
              "      box-shadow: 0px 1px 2px rgba(60, 64, 67, 0.3), 0px 1px 3px 1px rgba(60, 64, 67, 0.15);\n",
              "      fill: #174EA6;\n",
              "    }\n",
              "\n",
              "    [theme=dark] .colab-df-convert {\n",
              "      background-color: #3B4455;\n",
              "      fill: #D2E3FC;\n",
              "    }\n",
              "\n",
              "    [theme=dark] .colab-df-convert:hover {\n",
              "      background-color: #434B5C;\n",
              "      box-shadow: 0px 1px 3px 1px rgba(0, 0, 0, 0.15);\n",
              "      filter: drop-shadow(0px 1px 2px rgba(0, 0, 0, 0.3));\n",
              "      fill: #FFFFFF;\n",
              "    }\n",
              "  </style>\n",
              "\n",
              "      <script>\n",
              "        const buttonEl =\n",
              "          document.querySelector('#df-c437d187-ed9e-4442-8d7d-0b7d2ae5e81c button.colab-df-convert');\n",
              "        buttonEl.style.display =\n",
              "          google.colab.kernel.accessAllowed ? 'block' : 'none';\n",
              "\n",
              "        async function convertToInteractive(key) {\n",
              "          const element = document.querySelector('#df-c437d187-ed9e-4442-8d7d-0b7d2ae5e81c');\n",
              "          const dataTable =\n",
              "            await google.colab.kernel.invokeFunction('convertToInteractive',\n",
              "                                                     [key], {});\n",
              "          if (!dataTable) return;\n",
              "\n",
              "          const docLinkHtml = 'Like what you see? Visit the ' +\n",
              "            '<a target=\"_blank\" href=https://colab.research.google.com/notebooks/data_table.ipynb>data table notebook</a>'\n",
              "            + ' to learn more about interactive tables.';\n",
              "          element.innerHTML = '';\n",
              "          dataTable['output_type'] = 'display_data';\n",
              "          await google.colab.output.renderOutput(dataTable, element);\n",
              "          const docLink = document.createElement('div');\n",
              "          docLink.innerHTML = docLinkHtml;\n",
              "          element.appendChild(docLink);\n",
              "        }\n",
              "      </script>\n",
              "    </div>\n",
              "  </div>\n",
              "  "
            ],
            "text/plain": [
              "             west_teamname\n",
              "0        Memphis Grizzlies\n",
              "1           Denver Nuggets\n",
              "2         Dallas Mavericks\n",
              "3   Minnesota Timberwolves\n",
              "4     New Orleans Pelicans\n",
              "5    Golden State Warriors\n",
              "6    Oklahoma City Thunder\n",
              "7       Los Angeles Lakers\n",
              "8     Los Angeles Clippers\n",
              "9             Phoenix Suns\n",
              "10  Portland Trail Blazers\n",
              "11        Sacramento Kings\n",
              "12       San Antonio Spurs\n",
              "13               Utah Jazz\n",
              "14         Houston Rockets"
            ]
          },
          "execution_count": 49,
          "metadata": {},
          "output_type": "execute_result"
        }
      ],
      "source": [
        "pd.DataFrame(w_team)"
      ]
    }
  ],
  "metadata": {
    "colab": {
      "provenance": []
    },
    "kernelspec": {
      "display_name": "Python 3.9.12 ('base')",
      "language": "python",
      "name": "python3"
    },
    "language_info": {
      "name": "python",
      "version": "3.9.12"
    },
    "vscode": {
      "interpreter": {
        "hash": "a0e05950b156e14bfd14a3986910df437e0c0ff6f27fa95973a8b83e252441dd"
      }
    }
  },
  "nbformat": 4,
  "nbformat_minor": 0
}
